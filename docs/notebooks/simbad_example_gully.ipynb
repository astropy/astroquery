{
 "metadata": {
  "name": "",
  "signature": "sha256:3e9e1c0befb31060ec683fafa9c20be584ccbeb11a6979f0599c378599ab1d0e"
 },
 "nbformat": 3,
 "nbformat_minor": 0,
 "worksheets": [
  {
   "cells": [
    {
     "cell_type": "markdown",
     "metadata": {},
     "source": [
      "## astroquery issue #473\n",
      "\n",
      "by [Michael Gully-Santiago](https://github.com/gully)\n",
      "Monday, Feb. 23, 2015"
     ]
    },
    {
     "cell_type": "code",
     "collapsed": false,
     "input": [
      "from astroquery.simbad import Simbad\n",
      "import astropy.coordinates as coord\n",
      "import astropy.units as u"
     ],
     "language": "python",
     "metadata": {},
     "outputs": [
      {
       "output_type": "stream",
       "stream": "stderr",
       "text": [
        "WARNING: AstropyDeprecationWarning: Config parameter 'name_resolve_timeout' in section [coordinates.name_resolve] of the file '/Users/gully/.astropy/config/astropy.cfg' is deprecated. Use 'remote_timeout' in section [utils.data] instead. [astropy.config.configuration]\n",
        "WARNING:astropy:AstropyDeprecationWarning: Config parameter 'name_resolve_timeout' in section [coordinates.name_resolve] of the file '/Users/gully/.astropy/config/astropy.cfg' is deprecated. Use 'remote_timeout' in section [utils.data] instead.\n"
       ]
      },
      {
       "output_type": "stream",
       "stream": "stderr",
       "text": [
        "WARNING: AstropyDeprecationWarning: Config parameter 'remote_timeout' in section [utils.data] of the file '/Users/gully/.astropy/config/astropy.cfg' is given by more than one alias (astropy.utils.data.remote_timeout, coordinates.name_resolve.name_resolve_timeout). Using the first. [astropy.config.configuration]\n",
        "WARNING:astropy:AstropyDeprecationWarning: Config parameter 'remote_timeout' in section [utils.data] of the file '/Users/gully/.astropy/config/astropy.cfg' is given by more than one alias (astropy.utils.data.remote_timeout, coordinates.name_resolve.name_resolve_timeout). Using the first.\n"
       ]
      }
     ],
     "prompt_number": 1
    },
    {
     "cell_type": "code",
     "collapsed": false,
     "input": [
      "def add_input_column_to_simbad_result(Sim, input_list, verbose=False):\n",
      "    \"\"\"Adds 'INPUT' column to the result of a Simbad query\n",
      "\n",
      "    The motivation for this function is astroquery GitHub issue #473\n",
      "\n",
      "    When you submit a batch query, you only get back the successes,\n",
      "    often with different Simbad default names than the input list.\n",
      "    This discrepancy hinders downstream Table join operations.\n",
      "\n",
      "    Example:\n",
      "\n",
      "        import astroquery.simbad\n",
      "        input_list = ['M82', 'M31', 'junk-identifier1', 'junk-identifier2',\n",
      "                      '2MASSJ10463795-7736035','M101']\n",
      "        result = Simbad.query_objects(input_list)\n",
      "        print result[\"MAIN_ID\"].data\n",
      "\n",
      "        ['M  82' 'M  31' 'HD  93828' 'M 101']\n",
      "\n",
      "        result_fix = add_input_column_to_simbad_result(Simbad, input_list)\n",
      "        print result_fix[\"INPUT\"].data\n",
      "\n",
      "        ['M82' 'M31' '2MASSJ10463795-7736035' 'M101']\n",
      "\n",
      "    Args:\n",
      "      Sim (SimbadClass): The Simbad class used to make the \n",
      "      input_list (list): The same list that was used to perform the query.\n",
      "      verbose (boolean): Prints counts of successes/failures if True.\n",
      "\n",
      "    Returns:\n",
      "      Simbad Table with an additional column \"INPUT\"\n",
      "\n",
      "    \"\"\"\n",
      "    error_string = Sim.last_parsed_result.error_raw\n",
      "    fails = []\n",
      "\n",
      "    for error in error_string.split(\"\\n\"):\n",
      "        start_loc = error.rfind(\":\")+2\n",
      "        fail = error[start_loc:]\n",
      "        fails.append(fail)\n",
      "\n",
      "    successes = [s for s in input_list if s not in fails]\n",
      "    if verbose:\n",
      "        out_message = \"There were {} successful Simbad matches and {} failures.\"\n",
      "        print out_message.format(len(successes), len(fails))\n",
      "    \n",
      "    Sim.last_parsed_result.table[\"INPUT\"] = successes\n",
      "\n",
      "    return Sim.last_parsed_result.table"
     ],
     "language": "python",
     "metadata": {},
     "outputs": [],
     "prompt_number": 2
    },
    {
     "cell_type": "code",
     "collapsed": false,
     "input": [
      "Simbad.last_parsed_result.error_raw"
     ],
     "language": "python",
     "metadata": {},
     "outputs": [
      {
       "metadata": {},
       "output_type": "pyout",
       "prompt_number": 9,
       "text": [
        "u'[5] java.text.ParseException: Unrecognized identifier: junk-identifier1\\n[6] java.text.ParseException: Unrecognized identifier: junk-identifier2'"
       ]
      }
     ],
     "prompt_number": 9
    },
    {
     "cell_type": "markdown",
     "metadata": {},
     "source": [
      "Try it out:"
     ]
    },
    {
     "cell_type": "code",
     "collapsed": false,
     "input": [],
     "language": "python",
     "metadata": {},
     "outputs": []
    }
   ],
   "metadata": {}
  }
 ]
}